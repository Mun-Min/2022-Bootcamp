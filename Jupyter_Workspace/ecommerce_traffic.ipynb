{
 "cells": [
  {
   "cell_type": "code",
   "execution_count": 52,
   "id": "2795ba98-914c-4a32-9743-d969007004ff",
   "metadata": {},
   "outputs": [
    {
     "name": "stdout",
     "output_type": "stream",
     "text": [
      "C:\\Users\\minha\\OneDrive\\Documents\\ASU_2022_Bootcamp\\Jupyter_Workspace\n",
      "The Customer Total is: 4945\n",
      "The Day Count is: 100\n"
     ]
    }
   ],
   "source": [
    "# -*- coding: utf-8 -*-\n",
    "\"\"\"Student Do: E-Commerce Traffic.\n",
    "\n",
    "This script will parse through a text file and sum the total\n",
    "number of customers and the count of days in the text file to\n",
    "calculate the daily average of customer traffic for an e-commerce\n",
    "business.\n",
    "\"\"\"\n",
    "\n",
    "# @TODO: From the pathlib library, import the main class Path\n",
    "import pathlib \n",
    "\n",
    "# @TODO: Set the path using Pathlib\n",
    "path = pathlib.Path(r\"C:\\Users\\minha\\OneDrive\\Documents\\ASU_2022_Bootcamp\\Jupyter_Workspace\\customer_traffic.txt\") \n",
    "\n",
    "# @TODO: Check the current directory where the Python program is executing from\n",
    "print(path.cwd())\n",
    "\n",
    "\n",
    "# Initialize variables\n",
    "customer_total = 0\n",
    "day_count = 0\n",
    "\n",
    "# @TODO: Open the file in \"read\" mode ('r') and store the contents in the variable 'file'\n",
    "with open(\"customer_traffic.txt\", \"r\") as f:\n",
    "    file = f.read() \n",
    "    file_ints = [int(x) for x in file.split()] # Convert strings to ints\n",
    "\n",
    "# @TODO: Sum the total and count of the numbers in the text file\n",
    "total = 0 \n",
    "for customer_total in file_ints: \n",
    "    total = total + customer_total\n",
    "    \n",
    "for day_count in range(len(file_ints)): \n",
    "    day_count = day_count + 1\n",
    "\n",
    "\n",
    "# @TODO: Print out customer_total and day_count\n",
    "\n",
    "print(f\"The Customer Total is: {total}\") \n",
    "print(f\"The Day Count is: {day_count}\")\n",
    "\n",
    "\n",
    "# @TODO: Calculate the average\n",
    "average = 0 \n",
    "for customer_total in file_ints: \n",
    "    average = total / day_count\n",
    "\n",
    "\n",
    "# @TODO: Set output file name\n",
    "output_file = open(\"output_file.txt\", \"w\") \n",
    "\n",
    "# @TODO: Write daily_average to the output file, convert to string\n",
    "output_file.write(f\"The total and count of the numbers in the text file are {total} and {day_count}, respectively. The daily average is {str(average)}\") \n",
    "output_file.close() "
   ]
  },
  {
   "cell_type": "code",
   "execution_count": null,
   "id": "92850157-d181-4267-9091-3f269d7de5d1",
   "metadata": {},
   "outputs": [],
   "source": []
  }
 ],
 "metadata": {
  "kernelspec": {
   "display_name": "Python 3 (ipykernel)",
   "language": "python",
   "name": "python3"
  },
  "language_info": {
   "codemirror_mode": {
    "name": "ipython",
    "version": 3
   },
   "file_extension": ".py",
   "mimetype": "text/x-python",
   "name": "python",
   "nbconvert_exporter": "python",
   "pygments_lexer": "ipython3",
   "version": "3.7.13"
  }
 },
 "nbformat": 4,
 "nbformat_minor": 5
}
