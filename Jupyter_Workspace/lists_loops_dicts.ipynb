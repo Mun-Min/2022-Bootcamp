{
 "cells": [
  {
   "cell_type": "code",
   "execution_count": 1,
   "id": "6a3f0b78-5cbe-49f1-b9f7-087a985f2f0f",
   "metadata": {},
   "outputs": [
    {
     "name": "stdout",
     "output_type": "stream",
     "text": [
      "h\n",
      "e\n",
      "l\n",
      "l\n",
      "o\n"
     ]
    }
   ],
   "source": [
    "cheer = \"hello\" \n",
    "for x in cheer: \n",
    "    print(x) \n"
   ]
  },
  {
   "cell_type": "code",
   "execution_count": 2,
   "id": "b7a3a257-a9ce-4176-8557-4938085d63d6",
   "metadata": {},
   "outputs": [
    {
     "name": "stdin",
     "output_type": "stream",
     "text": [
      "Enter the original/purchase price of x stock:  100\n",
      "Enter the current price of x stock:  90\n",
      "Enter the cash balance (available buying power) of your portfloio:  250\n"
     ]
    },
    {
     "name": "stdout",
     "output_type": "stream",
     "text": [
      "\n",
      "The original price when purchased was $100.0 and the current price of x stock is $90.0\n",
      "The percent increase is -10.00%\n",
      "\n",
      "Recommendation: Buy x shares of x stock\n"
     ]
    }
   ],
   "source": [
    "# calculate the percent increase or decrease in x stock price  \n",
    "# identify a viable percent increase/decrease that will indicate buy or sell action \n",
    "# (use conditional logic -- 20% increase or decrease in stock price should warrant a buy or sell) \n",
    "\n",
    "# Increase = Current Price - Original Price \n",
    "# Percent Increase = Increase / Original * 100\n",
    "\n",
    "# variables \n",
    "original_price = 0 \n",
    "current_price = 0 \n",
    "increase = 0 \n",
    "threshold_to_buy = 20\n",
    "threshold_to_sell = 20 \n",
    "percent_increase = 0 \n",
    "port_balance = 0\n",
    "\n",
    "# get stock prices from user\n",
    "original_price = float(input(\"Enter the original/purchase price of x stock: \"))\n",
    "current_price = float(input(\"Enter the current price of x stock: \"))\n",
    "\n",
    "# get portfolio balance from user \n",
    "port_balance = float(input(\"Enter the cash balance (available buying power) of your portfloio: \"))\n",
    "\n",
    "# calculate increase \n",
    "increase = current_price - original_price\n",
    "\n",
    "# calculate percent increase \n",
    "percent_increase = (increase / original_price) * 100\n",
    "\n",
    "# buy or sell \n",
    "if (port_balance == (current_price * 5.1)):                                 # buy stock if your portfolio balance is 5x the current stock price\n",
    "    recommendation = (\"Recommendation: Your portfloio balance is more than 5x the current stock price! Buy x shares of x stock\")\n",
    "elif percent_increase < threshold_to_buy:                                   # buy Netflix stock if the percent_increase is less than 20% \n",
    "    recommendation = (\"Recommendation: Buy x shares of x stock\")\n",
    "elif percent_increase > threshold_to_sell:                                  # sell Netflix stock if the percent_increase is greater than 20% \n",
    "    recommendation = (\"Recommendation: Sell x shares of x stock\")\n",
    "\n",
    "# output\n",
    "print(f\"\\nThe original price when purchased was ${original_price} and the current price of x stock is ${current_price}\")\n",
    "print(f\"The percent increase is {percent_increase:,.2f}%\")\n",
    "print(f\"\\n{recommendation}\")\n"
   ]
  },
  {
   "cell_type": "code",
   "execution_count": 3,
   "id": "6f00a4aa-4533-4478-bc1a-13d9b36967a5",
   "metadata": {},
   "outputs": [
    {
     "name": "stdout",
     "output_type": "stream",
     "text": [
      "First 2 items on list: ['water', 'butter']\n",
      "\n",
      "Last 5 items on list: ['eggs', 'apples', 'cinnamon', 'sugar', 'milk']\n",
      "\n",
      "Find every other item starting from the 2nd: ['butter', 'apples', 'sugar']\n",
      "\n",
      "New item added to list: flour\n",
      "List has been modified: ['water', 'butter', 'eggs', 'gala apples', 'cinnamon', 'sugar', 'milk', 'flour']\n",
      "\n",
      "Number of items in list: 8\n"
     ]
    }
   ],
   "source": [
    "# create a grocery list for an apple pie \n",
    "apple_pie = [\"water\", \"butter\", \"eggs\", \"apples\", \"cinnamon\", \"sugar\", \"milk\"]\n",
    "\n",
    "# find the first 2 items \n",
    "print(f\"First 2 items on list: {apple_pie[0:2]}\")\n",
    "\n",
    "# find the last 5 items \n",
    "print(f\"\\nLast 5 items on list: {apple_pie[2:7]}\")\n",
    "\n",
    "# find every other item, starting from the 2nd item \n",
    "print(f\"\\nFind every other item starting from the 2nd: {apple_pie[1::2]}\")\n",
    "\n",
    "# add flour to the grocery list \n",
    "apple_pie.insert(7, \"flour\")\n",
    "print(f\"\\nNew item added to list: {apple_pie[7]}\")\n",
    "\n",
    "# change apples to gala apples \n",
    "apple_pie.pop(3)\n",
    "apple_pie.insert(3, \"gala apples\")\n",
    "print(f\"List has been modified: {apple_pie}\")\n",
    "\n",
    "# determine the total number of items on the list \n",
    "num_items = len(apple_pie) \n",
    "print(f\"\\nNumber of items in list: {num_items}\")\n"
   ]
  },
  {
   "cell_type": "code",
   "execution_count": null,
   "id": "84efe87a-6bb9-46e1-81da-fdcba0a5f6ee",
   "metadata": {},
   "outputs": [],
   "source": [
    "# -*- coding: utf-8 -*-\n",
    "\"\"\"\n",
    "Student Do: Trading Log.\n",
    "This script demonstrates how to perform basic analysis of trading profits/losses\n",
    "over the course of a month (20 business days).\n",
    "\"\"\"\n",
    "\n",
    "# @TODO: Initialize the metric variables\n",
    "profit_count = 0\n",
    "losses_count = 0\n",
    "profitable_days_percentage = 0.0 \n",
    "unprofitable_days_percentage = 0.0 \n",
    "total_profit_or_losses = 0 \n",
    "daily_average = 0 \n",
    "\n",
    "\n",
    "# @TODO: Initialize lists to hold profitable and unprofitable day profits/losses\n",
    "profitable_days_list = []\n",
    "unprofitable_days_list = [] \n",
    "\n",
    "# List of trading profits/losses\n",
    "trading_pnl = [ -224,  352, 252, 354, -544,\n",
    "                -650,   56, 123, -43,  254,\n",
    "                 325, -123,  47, 321,  123,\n",
    "                 133, -151, 613, 232, -311 ]\n",
    "                 \n",
    "# @TODO: Iterate over each element of the list\n",
    "num_total_trading_days = len(trading_pnl)\n",
    "for i in range(num_total_trading_days):\n",
    "    # @TODO: Cumulatively sum up the total and count\n",
    "    if trading_pnl[i] > 0:\n",
    "        profitable_days_list.insert(i, trading_pnl[i])\n",
    "        total_profit_or_losses += trading_pnl[i] \n",
    "        profit_count = profit_count + 1 \n",
    "    elif trading_pnl[i] < 0: \n",
    "        unprofitable_days_list.insert(i, trading_pnl[i])\n",
    "        total_profit_or_losses += trading_pnl[i] \n",
    "        losses_count = losses_count + 1 \n",
    "    \n",
    "\n",
    "\n",
    "# @TODO: Write logic to determine minimum and maximum values\n",
    "min_num = unprofitable_days_list[0]\n",
    "for num in unprofitable_days_list: \n",
    "    if num < min_num: \n",
    "        min_num = num\n",
    "max_num = profitable_days_list[0]\n",
    "for num in profitable_days_list: \n",
    "    if num > max_num: \n",
    "        max_num = num  \n",
    "\n",
    "\n",
    "# @TODO: Write logic to determine profitable vs. unprofitable days\n",
    "profitable_days_percentage = (profit_count / num_total_trading_days) * 100\n",
    "unprofitable_days_percentage = 100 - profitable_days_percentage\n",
    "\n",
    "\n",
    "# @TODO: Calculate the average\n",
    "daily_average = total_profit_or_losses / num_total_trading_days\n",
    "\n",
    "\n",
    "# @TODO: Print out the summary statistics\n",
    "print(\"--------------Summary Statistics---------\")\n",
    "print(f\"Number of Total Days: {num_total_trading_days}\")\n",
    "print(f\"Number of Profitable Days: {profit_count}\")\n",
    "print(f\"Number of Unprofitable Days: {losses_count}\")\n",
    "print(f\"Percentage of Profitable Days: {profitable_days_percentage}%\")\n",
    "print(f\"Percentage of Unprofitable Days: {unprofitable_days_percentage}%\")\n",
    "print(\"-----------------------------------------\")\n",
    "print(f\"Profitable Days: {profitable_days_list}\")\n",
    "print(f\"Unprofitable Days: {unprofitable_days_list}\")\n",
    "print(\"-----------------------------------------\")\n",
    "print(f\"Total Profits/Losses: {total_profit_or_losses}\")\n",
    "print(f\"Daily Average: {daily_average}\")\n",
    "print(f\"Worst Loss: {min_num}\")\n",
    "print(f\"Best Gain: {max_num}\")"
   ]
  }
 ],
 "metadata": {
  "kernelspec": {
   "display_name": "Python 3 (ipykernel)",
   "language": "python",
   "name": "python3"
  },
  "language_info": {
   "codemirror_mode": {
    "name": "ipython",
    "version": 3
   },
   "file_extension": ".py",
   "mimetype": "text/x-python",
   "name": "python",
   "nbconvert_exporter": "python",
   "pygments_lexer": "ipython3",
   "version": "3.7.13"
  }
 },
 "nbformat": 4,
 "nbformat_minor": 5
}
