{
 "cells": [
  {
   "cell_type": "code",
   "execution_count": 1,
   "id": "97a6789f-f86c-48d4-b188-a1548fb76ad4",
   "metadata": {},
   "outputs": [
    {
     "name": "stdout",
     "output_type": "stream",
     "text": [
      "Hello World!\n"
     ]
    }
   ],
   "source": [
    "print(\"Hello World!\") "
   ]
  },
  {
   "cell_type": "code",
   "execution_count": 6,
   "id": "a9646206-20b4-46b1-9d15-3d38dc288aea",
   "metadata": {},
   "outputs": [
    {
     "name": "stdin",
     "output_type": "stream",
     "text": [
      "Enter your name:  Muni\n"
     ]
    },
    {
     "name": "stdout",
     "output_type": "stream",
     "text": [
      "Hello Muni !\n"
     ]
    }
   ],
   "source": [
    "user_input = input(\"Enter your name: \") \n",
    "print(f\"Hello {user_input} !\")"
   ]
  },
  {
   "cell_type": "code",
   "execution_count": null,
   "id": "dad46549-6665-4068-b0a2-41f9c5e6e3a6",
   "metadata": {},
   "outputs": [],
   "source": [
    "# This line of code is a comment "
   ]
  },
  {
   "cell_type": "code",
   "execution_count": 1,
   "id": "33b25e74-08c8-4e1a-b633-5663667355ff",
   "metadata": {},
   "outputs": [
    {
     "name": "stdout",
     "output_type": "stream",
     "text": [
      "Hello World from a new cell\n"
     ]
    }
   ],
   "source": [
    "print(\"Hello World from a new cell\")"
   ]
  },
  {
   "cell_type": "code",
   "execution_count": 3,
   "id": "a3cda293-9c75-4bca-b949-c11c5c8410d2",
   "metadata": {},
   "outputs": [
    {
     "name": "stdout",
     "output_type": "stream",
     "text": [
      "15.972222222222221\n"
     ]
    }
   ],
   "source": [
    "total_miles = 115 \n",
    "gallon_gas = 7.2 \n",
    "miles_per_gallon = total_miles / gallon_gas \n",
    "print(miles_per_gallon) "
   ]
  },
  {
   "cell_type": "code",
   "execution_count": 8,
   "id": "0e682313-7c0a-4068-9230-e3afb9b1df4a",
   "metadata": {},
   "outputs": [
    {
     "name": "stdout",
     "output_type": "stream",
     "text": [
      "The original price of the stock is: $198.97\n",
      "The current price of the stock is: $254.32\n",
      "The percent increase of the stock is: 27.82%\n"
     ]
    }
   ],
   "source": [
    "# Hello Variable World -- Class 4 Activities\n",
    "original_price = 198.97\n",
    "current_price = 254.32\n",
    "increase = current_price - original_price \n",
    "percent_increase = increase / original_price * 100 \n",
    "\n",
    "print(f\"The original price of the stock is: ${original_price}\") \n",
    "print(f\"The current price of the stock is: ${current_price}\") \n",
    "print(f\"The percent increase of the stock is: {percent_increase:,.2f}%\") "
   ]
  },
  {
   "cell_type": "code",
   "execution_count": 9,
   "id": "7f776ad8-4fa0-4829-ba35-b8e57c1bf5d9",
   "metadata": {},
   "outputs": [
    {
     "name": "stdout",
     "output_type": "stream",
     "text": [
      "Oooo needs some work\n"
     ]
    }
   ],
   "source": [
    "x = 5\n",
    "y = 10\n",
    "if 2 * x > 10:\n",
    "    print(\"Question 1 works!\")\n",
    "else:\n",
    "    print(\"Oooo needs some work\")\n"
   ]
  },
  {
   "cell_type": "code",
   "execution_count": 10,
   "id": "68a48446-a6c3-43dd-9b04-c585478c1718",
   "metadata": {},
   "outputs": [
    {
     "name": "stdout",
     "output_type": "stream",
     "text": [
      "Question 2 works!\n"
     ]
    }
   ],
   "source": [
    "x = 5\n",
    "y = 10\n",
    "if len(\"Dog\") < x:\n",
    "    print(\"Question 2 works!\")\n",
    "else:\n",
    "    print(\"Still missing out\")"
   ]
  },
  {
   "cell_type": "code",
   "execution_count": 11,
   "id": "bcaf2795-2b7b-4865-a808-02cbb17ca479",
   "metadata": {},
   "outputs": [
    {
     "name": "stdout",
     "output_type": "stream",
     "text": [
      "You are of drinking age!\n"
     ]
    }
   ],
   "source": [
    "# 3.\n",
    "age = 21\n",
    "if age > 20:\n",
    "    print(\"You are of drinking age!\")\n",
    "else:\n",
    "    print(\"Argggggh! You think you can hoodwink me, matey?! You're too young to drink!\")"
   ]
  },
  {
   "cell_type": "code",
   "execution_count": null,
   "id": "edfa09aa-e65e-44ed-ab10-d51b87a72da0",
   "metadata": {},
   "outputs": [],
   "source": []
  }
 ],
 "metadata": {
  "kernelspec": {
   "display_name": "Python 3 (ipykernel)",
   "language": "python",
   "name": "python3"
  },
  "language_info": {
   "codemirror_mode": {
    "name": "ipython",
    "version": 3
   },
   "file_extension": ".py",
   "mimetype": "text/x-python",
   "name": "python",
   "nbconvert_exporter": "python",
   "pygments_lexer": "ipython3",
   "version": "3.7.13"
  }
 },
 "nbformat": 4,
 "nbformat_minor": 5
}
