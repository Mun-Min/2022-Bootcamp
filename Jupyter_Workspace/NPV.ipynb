{
 "cells": [
  {
   "cell_type": "code",
   "execution_count": 3,
   "id": "e0a9f212-6119-47b5-95e2-8707b99dec85",
   "metadata": {},
   "outputs": [
    {
     "name": "stdout",
     "output_type": "stream",
     "text": [
      "Collecting package metadata (current_repodata.json): ...working... done\n",
      "Solving environment: ...working... done\n",
      "\n",
      "# All requested packages already installed.\n",
      "\n",
      "\n",
      "Note: you may need to restart the kernel to use updated packages.\n"
     ]
    },
    {
     "name": "stderr",
     "output_type": "stream",
     "text": [
      "'crumb' is not recognized as an internal or external command,\n",
      "operable program or batch file.\n",
      "'crumb' is not recognized as an internal or external command,\n",
      "operable program or batch file.\n",
      "'crumb' is not recognized as an internal or external command,\n",
      "operable program or batch file.\n",
      "'crumb' is not recognized as an internal or external command,\n",
      "operable program or batch file.\n"
     ]
    }
   ],
   "source": [
    "conda install numpy"
   ]
  },
  {
   "cell_type": "code",
   "execution_count": 10,
   "id": "7f44e630-8808-47d1-96fb-22154ee94997",
   "metadata": {},
   "outputs": [
    {
     "name": "stdout",
     "output_type": "stream",
     "text": [
      "{'Conservative NPV': {267.94617853971704}, 'Neutral NPV': {401.91926780957544}, 'Aggressive NPV': {285.8923570794341}}\n",
      "The project scenario with the max NPV value is ('Neutral NPV', {401.91926780957544})\n"
     ]
    }
   ],
   "source": [
    "# -*- coding: utf-8 -*-\n",
    "\"\"\"Student Activity: Financial Analysis using NPV.\n",
    "\n",
    "This script will choose the optimal project scenario to\n",
    "undertake based on max NPV values.\n",
    "\"\"\"\n",
    "\n",
    "# @TODO: Import the NumPy Financial (numpy_financial) library\n",
    "import numpy_financial as npf\n",
    "# @TODO: You may need to run `pip install numpy-financial` in your terminal to install the library\n",
    "\n",
    "# Discount Rate\n",
    "discount_rate = .1\n",
    "\n",
    "# Initial Investment, Cash Flow 1, Cash Flow 2, Cash Flow 3, Cash Flow 4\n",
    "cash_flows_conservative = [-1000, 400, 400, 400, 400]\n",
    "cash_flows_neutral = [-1500, 600, 600, 600, 600]\n",
    "cash_flows_aggressive = [-2250, 800, 800, 800, 800]\n",
    "\n",
    "# @TODO: Initialize dictionary to hold NPV return values\n",
    "npv_dict = {}\n",
    "\n",
    "# @TODO: Calculate the NPV for each scenario\n",
    "\n",
    "# NPV = NPV + cash_flows_conservative[i] / (1 + discount_rate) ** i\n",
    "NPV_conservative = npf.npv(discount_rate, cash_flows_conservative) \n",
    "\n",
    "\n",
    "# NPV = NPV + cash_flows_conservative[i] / (1 + discount_rate) ** i\n",
    "NPV_neutral = npf.npv(discount_rate, cash_flows_neutral) \n",
    "\n",
    " \n",
    "# NPV = NPV + cash_flows_conservative[i] / (1 + discount_rate) ** i\n",
    "NPV_aggressive = npf.npv(discount_rate, cash_flows_aggressive) \n",
    "    \n",
    "# Add values into dict \n",
    "npv_dict[\"Conservative NPV\"] = {NPV_conservative}\n",
    "npv_dict[\"Neutral NPV\"] = {NPV_neutral} \n",
    "npv_dict[\"Aggressive NPV\"] = {NPV_aggressive}\n",
    "\n",
    "print(npv_dict) \n",
    "\n",
    "# @TODO: Manually Choose the project with the highest NPV value\n",
    "max_value = max(npv_dict.items())\n",
    "\n",
    "print(f\"The project scenario with the max NPV value is {max_value}\")  "
   ]
  },
  {
   "cell_type": "code",
   "execution_count": null,
   "id": "0074c556-19fd-4ec9-a39e-74b0f847dde5",
   "metadata": {},
   "outputs": [],
   "source": []
  }
 ],
 "metadata": {
  "kernelspec": {
   "display_name": "Python 3 (ipykernel)",
   "language": "python",
   "name": "python3"
  },
  "language_info": {
   "codemirror_mode": {
    "name": "ipython",
    "version": 3
   },
   "file_extension": ".py",
   "mimetype": "text/x-python",
   "name": "python",
   "nbconvert_exporter": "python",
   "pygments_lexer": "ipython3",
   "version": "3.7.13"
  }
 },
 "nbformat": 4,
 "nbformat_minor": 5
}
